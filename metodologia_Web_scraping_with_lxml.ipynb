{
  "nbformat": 4,
  "nbformat_minor": 0,
  "metadata": {
    "colab": {
      "name": "construyendo metodologia Web scraping with lxml",
      "provenance": [],
      "collapsed_sections": [
        "4OoVgy6RGC2b"
      ]
    },
    "kernelspec": {
      "name": "python3",
      "display_name": "Python 3"
    },
    "language_info": {
      "name": "python"
    }
  },
  "cells": [
    {
      "cell_type": "markdown",
      "metadata": {
        "id": "eHAjVKket-IK"
      },
      "source": [
        "# Dependencias:"
      ]
    },
    {
      "cell_type": "code",
      "metadata": {
        "id": "l2wXh04stRN0"
      },
      "source": [
        "#from bs4 import BeautifulSoup\n",
        "import requests\n",
        "import pandas as pd\n",
        "import lxml.html as html\n",
        "import os\n",
        "import datetime\n",
        "\n",
        "#'V_Title'\n",
        "web_URL=\"https://www.larepublica.co\""
      ],
      "execution_count": null,
      "outputs": []
    },
    {
      "cell_type": "markdown",
      "metadata": {
        "id": "c82-KdGquEK8"
      },
      "source": [
        "# Codigo"
      ]
    },
    {
      "cell_type": "markdown",
      "source": [
        "Prueba de conexion."
      ],
      "metadata": {
        "id": "M45bsWwiakeJ"
      }
    },
    {
      "cell_type": "code",
      "source": [
        "try:\n",
        "  response=requests.get(web_URL)\n",
        "  if response.status_code==200:\n",
        "    print(f\"Conexion funcionando (value): {response.status_code}\")\n",
        "  else:\n",
        "    raise error(print(f\"Conexion no funcionando (value): {response.status_code}\"))\n",
        "except ValueError as error:\n",
        "  print(error)"
      ],
      "metadata": {
        "colab": {
          "base_uri": "https://localhost:8080/"
        },
        "id": "z3A5Ug77ZeqL",
        "outputId": "c5e782c8-e0a4-4ebe-e7ce-adcb57cee0df"
      },
      "execution_count": null,
      "outputs": [
        {
          "output_type": "stream",
          "name": "stdout",
          "text": [
            "Conexion funcionando (value): 200\n"
          ]
        }
      ]
    },
    {
      "cell_type": "markdown",
      "source": [
        "Captura del html"
      ],
      "metadata": {
        "id": "z9E9TcAMart5"
      }
    },
    {
      "cell_type": "code",
      "source": [
        "home=html.fromstring(response.content.decode(\"utf-8\"))\n",
        "home"
      ],
      "metadata": {
        "colab": {
          "base_uri": "https://localhost:8080/"
        },
        "id": "xVgZblVPaC7v",
        "outputId": "b7e6aea6-c4fd-43b1-8327-47649c6406b3"
      },
      "execution_count": null,
      "outputs": [
        {
          "output_type": "execute_result",
          "data": {
            "text/plain": [
              "<Element html at 0x7fa934efbf50>"
            ]
          },
          "metadata": {},
          "execution_count": 3
        }
      ]
    },
    {
      "cell_type": "markdown",
      "source": [
        "## 1- Elementos que sirver para buscar desde la pagina al html (mashes)"
      ],
      "metadata": {
        "id": "vpuc_XcHax47"
      }
    },
    {
      "cell_type": "markdown",
      "source": [
        "### Contains(type, value)\n",
        "\n",
        "    Xpath=//tagname[contains (@Attribute, ‘Value’)]"
      ],
      "metadata": {
        "id": "9D1QwJCUb8y6"
      }
    },
    {
      "cell_type": "code",
      "source": [
        "#contains(text, value)\n",
        "contains=\"//*[contains(text(),'Las')]\"\n",
        "contains_word=home.xpath(contains)\n",
        "#contain retorna los nodos que contiene la informacion pasada\n",
        "contains_word"
      ],
      "metadata": {
        "colab": {
          "base_uri": "https://localhost:8080/"
        },
        "id": "sWgFs2hTauCi",
        "outputId": "934bc32a-ed16-4986-a06c-d9f74fb98d78"
      },
      "execution_count": null,
      "outputs": [
        {
          "output_type": "execute_result",
          "data": {
            "text/plain": [
              "[<Element a at 0x7fa934efc410>,\n",
              " <Element a at 0x7fa934efc170>,\n",
              " <Element a at 0x7fa934efc350>,\n",
              " <Element p at 0x7fa934efc650>,\n",
              " <Element a at 0x7fa934efc6b0>]"
            ]
          },
          "metadata": {},
          "execution_count": 4
        }
      ]
    },
    {
      "cell_type": "code",
      "source": [
        "#contains(href, value)\n",
        "contains=\"//*[contains(@href,'www')]\"\n",
        "contains_word=home.xpath(contains)\n",
        "#contain retorna los nodos con atributos href que contienen la informacion pasada\n",
        "contains_word[:7]"
      ],
      "metadata": {
        "colab": {
          "base_uri": "https://localhost:8080/"
        },
        "id": "aTt13sKcGNBs",
        "outputId": "3dd90f35-99db-4fba-8b03-97efa8d7bf50"
      },
      "execution_count": null,
      "outputs": [
        {
          "output_type": "execute_result",
          "data": {
            "text/plain": [
              "[<Element link at 0x7fa934efc950>,\n",
              " <Element a at 0x7fa934efca10>,\n",
              " <Element a at 0x7fa934efc7d0>,\n",
              " <Element a at 0x7fa934efcbf0>,\n",
              " <Element a at 0x7fa934efcc50>,\n",
              " <Element a at 0x7fa934efccb0>,\n",
              " <Element a at 0x7fa934efcd10>]"
            ]
          },
          "metadata": {},
          "execution_count": 5
        }
      ]
    },
    {
      "cell_type": "code",
      "source": [
        "#contains(href, value) and contains(text, value)\n",
        "contains=\"//*[contains(@href,'www') and contains(text(),'Las')]\"\n",
        "contains_word=home.xpath(contains)\n",
        "#contain retorna los nodos con atributos href y text que contienen la informacion pasada pudiendo encontrar textos con enlaces.\n",
        "contains_word"
      ],
      "metadata": {
        "id": "90c0105idw-h",
        "colab": {
          "base_uri": "https://localhost:8080/"
        },
        "outputId": "f9c3f862-ef4b-46e5-b277-1990a5dc56b0"
      },
      "execution_count": null,
      "outputs": [
        {
          "output_type": "execute_result",
          "data": {
            "text/plain": [
              "[<Element a at 0x7fa934efc410>,\n",
              " <Element a at 0x7fa934efc170>,\n",
              " <Element a at 0x7fa934efc350>,\n",
              " <Element a at 0x7fa934efc6b0>]"
            ]
          },
          "metadata": {},
          "execution_count": 6
        }
      ]
    },
    {
      "cell_type": "code",
      "source": [
        "#contains(href, value) and contains(text, value) return atributos\n",
        "contains=\"//*[contains(@href,'www') and contains(text(),'Las')]/@*\"\n",
        "contains_word=home.xpath(contains)\n",
        "#podemos ver los atributos que contine el nodo(a) pero no cual atributo es, \n",
        "#como ya de filtro por href podemos asumir que el link es el href\n",
        "contains_word"
      ],
      "metadata": {
        "colab": {
          "base_uri": "https://localhost:8080/"
        },
        "id": "-SnzDQIQ3pow",
        "outputId": "108fb1c0-8b4a-4474-d44a-273db39f9bc1"
      },
      "execution_count": null,
      "outputs": [
        {
          "output_type": "execute_result",
          "data": {
            "text/plain": [
              "['https://www.larepublica.co/globoeconomia/las-muchas-formas-ocultas-que-utilizan-empresas-del-mundo-para-subir-los-precios-3301997',\n",
              " 'globoeconomiaSect',\n",
              " 'https://www.larepublica.co/ocio/hacia-asia-las-mejores-universidades-de-asia-3299180',\n",
              " 'ocioSect',\n",
              " 'https://www.larepublica.co/globoeconomia/como-son-las-casas-ataud-salen-a-us225-por-mes-y-ya-viven-mas-de-200000-personas-3301010',\n",
              " 'globoeconomiaSect',\n",
              " 'https://www.larepublica.co/ocio/conozca-las-canciones-esenciales-para-recordar-la-obra-del-maestro-julio-erazo-3302101',\n",
              " 'ocioSect']"
            ]
          },
          "metadata": {},
          "execution_count": 7
        }
      ]
    },
    {
      "cell_type": "code",
      "source": [
        "#contains(href, value) and contains(text, value) /.. caes sobre los mismos nodos /../.. caes en los padres\n",
        "contains=\"//*[contains(@href,'www') and contains(text(),'Las')]/../../*\"\n",
        "contains_word=home.xpath(contains)\n",
        "#podemos ver que los nodos padres son varios el ojetivo es filtra por estos para obtener solo los links a las noticias.\n",
        "contains_word"
      ],
      "metadata": {
        "colab": {
          "base_uri": "https://localhost:8080/"
        },
        "id": "RUNJUL1l4kQP",
        "outputId": "8a0d7087-3f89-4448-8c0e-e4c39bda29f3"
      },
      "execution_count": null,
      "outputs": [
        {
          "output_type": "execute_result",
          "data": {
            "text/plain": [
              "[<Element a at 0x7fa934efc1d0>,\n",
              " <Element text-fill at 0x7fa934efc290>,\n",
              " <Element a at 0x7fa934efc050>,\n",
              " <Element div at 0x7fa934efca70>,\n",
              " <Element a at 0x7fa934f12050>,\n",
              " <Element span at 0x7fa934f120b0>,\n",
              " <Element text-fill at 0x7fa934f12110>,\n",
              " <Element a at 0x7fa934f12170>,\n",
              " <Element text-fill at 0x7fa934f121d0>,\n",
              " <Element a at 0x7fa934f12230>,\n",
              " <Element span at 0x7fa934f12290>,\n",
              " <Element text-fill at 0x7fa934f12650>]"
            ]
          },
          "metadata": {},
          "execution_count": 8
        }
      ]
    },
    {
      "cell_type": "markdown",
      "source": [
        "#### Filtrado por nodo"
      ],
      "metadata": {
        "id": "Kxx_y0CIB6p0"
      }
    },
    {
      "cell_type": "code",
      "source": [
        "#contains(href, value) and contains(text, '') /text-fill \n",
        "contains=\"//text-fill/a[contains(@href,'www') and contains(text(),'')]/@*\"\n",
        "contains_word=home.xpath(contains)\n",
        "#para filtral todos lo text los igualamos a ''.\n",
        "#con text-fill tenemos buenos resultados\n",
        "contains_word[:6], len(contains_word)"
      ],
      "metadata": {
        "colab": {
          "base_uri": "https://localhost:8080/"
        },
        "id": "gy_s5oSh81B_",
        "outputId": "e4b0d5cd-310b-44f1-d941-242b853eab65"
      },
      "execution_count": null,
      "outputs": [
        {
          "output_type": "execute_result",
          "data": {
            "text/plain": [
              "(['https://www.larepublica.co/ocio/en-el-dia-mundial-de-la-radio-conozca-su-historia-desde-el-transistor-hasta-el-ipod-3302224',\n",
              "  'ocioSect',\n",
              "  'https://www.larepublica.co/ocio/participacion-en-eventos-de-talla-mundial-y-talento-creativo-favorecen-al-cine-nacional-3302021',\n",
              "  'ocioSect',\n",
              "  'https://www.larepublica.co/ocio/conozca-los-costos-de-produccion-de-las-peliculas-nominadas-a-los-premios-oscar-3302076',\n",
              "  'ocioSect'],\n",
              " 143)"
            ]
          },
          "metadata": {},
          "execution_count": 9
        }
      ]
    },
    {
      "cell_type": "code",
      "source": [
        "#contains(href, value) and contains(text, '') /span \n",
        "contains=\"//span/a[contains(@href,'www') and contains(text(),'')]/@*\"\n",
        "contains_word=home.xpath(contains)\n",
        "#para filtral todos lo text los igualamos a ''.\n",
        "#con span retorna los links a los podcats.\n",
        "contains_word, len(contains_word)"
      ],
      "metadata": {
        "colab": {
          "base_uri": "https://localhost:8080/"
        },
        "id": "hifMw9PP-n2p",
        "outputId": "4cc91415-71ac-44ab-8812-887a6e4c80e3"
      },
      "execution_count": null,
      "outputs": [
        {
          "output_type": "execute_result",
          "data": {
            "text/plain": [
              "(['https://www.larepublica.co/podcast/voces-para-educar',\n",
              "  'nameShow',\n",
              "  'https://www.larepublica.co/podcast/protagonistas-de-la-economia-colombiana',\n",
              "  'nameShow',\n",
              "  'https://www.larepublica.co/podcast/lr-radio',\n",
              "  'nameShow'],\n",
              " 6)"
            ]
          },
          "metadata": {},
          "execution_count": 10
        }
      ]
    },
    {
      "cell_type": "code",
      "source": [
        "#contains(href, value) and contains(text, '') /div \n",
        "contains=\"//div/a[contains(@href,'www') and contains(text(),'')]/@*\"\n",
        "contains_word=home.xpath(contains)\n",
        "#para filtral todos lo text los igualamos a ''.\n",
        "#con div tenemos las secciones de noticias\n",
        "contains_word[:6], len(contains_word)"
      ],
      "metadata": {
        "colab": {
          "base_uri": "https://localhost:8080/"
        },
        "id": "myQlbPyY_BZO",
        "outputId": "88fe0cbb-da48-43f6-8308-060e7ecbf97e"
      },
      "execution_count": null,
      "outputs": [
        {
          "output_type": "execute_result",
          "data": {
            "text/plain": [
              "(['https://www.larepublica.co/finanzas',\n",
              "  'https://www.larepublica.co/economia',\n",
              "  'https://www.larepublica.co/empresas',\n",
              "  'https://www.larepublica.co/ocio',\n",
              "  'https://www.larepublica.co/globoeconomia',\n",
              "  'https://www.agronegocios.co'],\n",
              " 352)"
            ]
          },
          "metadata": {},
          "execution_count": 11
        }
      ]
    },
    {
      "cell_type": "code",
      "source": [
        "#contains(href, value) and contains(text, '') /a \n",
        "contains=\"//a/a[contains(@href,'www') and contains(text(),'')]/node()\"\n",
        "contains_word=home.xpath(contains)\n",
        "#un tag a nio contiene un tag a\n",
        "contains_word[:6], len(contains_word)"
      ],
      "metadata": {
        "colab": {
          "base_uri": "https://localhost:8080/"
        },
        "id": "cNbavc-vANVR",
        "outputId": "e91ac06e-693f-4b76-9c89-c72283b37665"
      },
      "execution_count": null,
      "outputs": [
        {
          "output_type": "execute_result",
          "data": {
            "text/plain": [
              "([], 0)"
            ]
          },
          "metadata": {},
          "execution_count": 12
        }
      ]
    },
    {
      "cell_type": "markdown",
      "source": [
        "## 2- Aplicar lo mismo para hallar el titulo, el resumen y la noticia"
      ],
      "metadata": {
        "id": "KKVJfktXCSV9"
      }
    },
    {
      "cell_type": "markdown",
      "source": [
        "- el titulo no tiene enlase a link y esta dentro de un nodo h2 o h3\n",
        "- el resumen no tiene enlase a link y esta dentro de un nodo h menor a 2\n",
        "- la noticia no tiene enlase a link y esta dentro de un nodo p y este dentro de un div\n"
      ],
      "metadata": {
        "id": "1LnyXenFCjY-"
      }
    },
    {
      "cell_type": "markdown",
      "source": [
        "Capturamos los links con los filtros anteriores"
      ],
      "metadata": {
        "id": "TFGHr2d1EBG3"
      }
    },
    {
      "cell_type": "code",
      "source": [
        "#contains(href, value) and contains(text, '') /text-fill / href\n",
        "contains=\"//text-fill/a[contains(@href,'www') and contains(text(),'')]/@href\"\n",
        "links=home.xpath(contains)\n",
        "links[:6], len(links)"
      ],
      "metadata": {
        "colab": {
          "base_uri": "https://localhost:8080/"
        },
        "id": "tUCeNsZfCifZ",
        "outputId": "d730580a-d84e-4157-a938-91cf2ea6ce8b"
      },
      "execution_count": null,
      "outputs": [
        {
          "output_type": "execute_result",
          "data": {
            "text/plain": [
              "(['https://www.larepublica.co/ocio/en-el-dia-mundial-de-la-radio-conozca-su-historia-desde-el-transistor-hasta-el-ipod-3302224',\n",
              "  'https://www.larepublica.co/ocio/participacion-en-eventos-de-talla-mundial-y-talento-creativo-favorecen-al-cine-nacional-3302021',\n",
              "  'https://www.larepublica.co/ocio/conozca-los-costos-de-produccion-de-las-peliculas-nominadas-a-los-premios-oscar-3302076',\n",
              "  'https://www.larepublica.co/ocio/equipos-de-europa-han-ganado-la-copa-mundial-de-clubes-14-veces-ultimos-17-anos-3302023',\n",
              "  'https://www.larepublica.co/ocio/asistentes-del-julio-mario-santo-domingo-han-aumentado-30-con-menos-restricciones-3302082',\n",
              "  'https://www.larepublica.co/ocio/con-el-evento-de-taco-fest-triplicamos-el-empleo-de-toda-la-cadena-gastronomica-3302089'],\n",
              " 75)"
            ]
          },
          "metadata": {},
          "execution_count": 41
        }
      ]
    },
    {
      "cell_type": "markdown",
      "source": [
        "Obtener html"
      ],
      "metadata": {
        "id": "uch33Lt_Ek6y"
      }
    },
    {
      "cell_type": "code",
      "source": [
        "notice= links[4]\n",
        "notice_response=requests.get(notice)\n",
        "notice_home=html.fromstring(notice_response.content.decode(\"utf-8\"))\n",
        "notice_response"
      ],
      "metadata": {
        "colab": {
          "base_uri": "https://localhost:8080/"
        },
        "id": "c0ia7fvSEi84",
        "outputId": "89fea401-4b20-41bd-eb65-b035a6801f00"
      },
      "execution_count": null,
      "outputs": [
        {
          "output_type": "execute_result",
          "data": {
            "text/plain": [
              "<Response [200]>"
            ]
          },
          "metadata": {},
          "execution_count": 68
        }
      ]
    },
    {
      "cell_type": "markdown",
      "source": [
        "### Aplicar *Xpath*"
      ],
      "metadata": {
        "id": "j7JU0D9KFzhw"
      }
    },
    {
      "cell_type": "markdown",
      "source": [
        "#### Titulo"
      ],
      "metadata": {
        "id": "4OoVgy6RGC2b"
      }
    },
    {
      "cell_type": "code",
      "source": [
        "#para ver el titulo que buscamos podemos revisar el link\n",
        "text=notice.replace(\"-\",\" \")\n",
        "notice"
      ],
      "metadata": {
        "colab": {
          "base_uri": "https://localhost:8080/",
          "height": 35
        },
        "id": "_1pjegcaYBB2",
        "outputId": "6a4192ab-c0a1-46e6-e855-f298c640720e"
      },
      "execution_count": null,
      "outputs": [
        {
          "output_type": "execute_result",
          "data": {
            "application/vnd.google.colaboratory.intrinsic+json": {
              "type": "string"
            },
            "text/plain": [
              "'https://www.larepublica.co/ocio/asistentes-del-julio-mario-santo-domingo-han-aumentado-30-con-menos-restricciones-3302082'"
            ]
          },
          "metadata": {},
          "execution_count": 69
        }
      ]
    },
    {
      "cell_type": "code",
      "source": [
        "#not(contains(@href,'www')) and contains(text(),'30') and not(contains(text(),'\\n')\n",
        "#con las condiciones de arriba nos quitamos de encima cualquier otro texto\n",
        "contains=\"//*[not(contains(@href,'www')) and contains(text(),'30') and not(contains(text(),'\\n'))]/text()\"\n",
        "#con la palabra clave \"30\" podemos buscar los textos que concuerden con el titulo\n",
        "contains_word=notice_home.xpath(contains)\n",
        "contains_word, len(contains_word)"
      ],
      "metadata": {
        "colab": {
          "base_uri": "https://localhost:8080/"
        },
        "id": "_LfyUsgPeMe_",
        "outputId": "8b81d0ff-ed93-4016-801e-d46783bc0f5f"
      },
      "execution_count": null,
      "outputs": [
        {
          "output_type": "execute_result",
          "data": {
            "text/plain": [
              "(['Asistentes del Santo Domingo subieron 30% con menos restricciones',\n",
              "  'Asistentes del Santo Domingo subieron 30% con menos restricciones',\n",
              "  'Asistentes del Santo Domingo subieron 30% con menos restricciones',\n",
              "  'El teatro cuenta con un calendario de más de 30 eventos para los próximos meses, que incluyen música, danza y festivales ',\n",
              "  'Los planes culturales volvieron a la presencialidad con fuerza. En el caso del Teatro Mayor Julio Mario Santo Domingo, se ha traducido en un incremento de más de 30% en los asistentes desde que se levantaron las restricciones de movilidad.',\n",
              "  'La agenda está enriquecida con más de 30 eventos entre lo que resta de febrero y abril, que incluyen, música, danza y por supuesto, teatro. Con los que se espera aumentar aún más la asistencia de los espectadores.',\n",
              "  'Asistentes del Santo Domingo subieron 30% con menos restricciones'],\n",
              " 7)"
            ]
          },
          "metadata": {},
          "execution_count": 50
        }
      ]
    },
    {
      "cell_type": "code",
      "source": [
        "#not(contains(@href,'www')) and contains(text(),'30') and not(contains(text(),'\\n') /parent::*\n",
        "\n",
        "contains=\"//*[not(contains(@href,'www')) and contains(text(),'30') and not(contains(text(),'\\n'))]/parent::*\"\n",
        "#con \"parent::*\" conseguimos los nodos padres de los textos\n",
        "contains_word=notice_home.xpath(contains)\n",
        "contains_word, len(contains_word)"
      ],
      "metadata": {
        "colab": {
          "base_uri": "https://localhost:8080/"
        },
        "id": "CItP_Ur7fX4d",
        "outputId": "5d7bdae6-f466-4372-bcfb-4600be59ad19"
      },
      "execution_count": null,
      "outputs": [
        {
          "output_type": "execute_result",
          "data": {
            "text/plain": [
              "([<Element head at 0x7fa934e9ba70>,\n",
              "  <Element h1 at 0x7fa934e9b9b0>,\n",
              "  <Element text-fill at 0x7fa934e9bc50>,\n",
              "  <Element div at 0x7fa934e9bcb0>,\n",
              "  <Element div at 0x7fa934e9bd10>,\n",
              "  <Element div at 0x7fa934e9bd70>],\n",
              " 6)"
            ]
          },
          "metadata": {},
          "execution_count": 49
        }
      ]
    },
    {
      "cell_type": "code",
      "source": [
        "# /title contains(href, value) and contains(text, '')\n",
        "\n",
        "contains=\"//title[not(contains(@href,'www')) and contains(text(),'') and not(contains(text(),'\\n'))]/text()\"\n",
        "#ahora podemos  filtrar cada titulo de cada link\n",
        "contains_word=notice_home.xpath(contains)\n",
        "contains_word, len(contains_word)"
      ],
      "metadata": {
        "colab": {
          "base_uri": "https://localhost:8080/"
        },
        "id": "lB3vSzX2Fysk",
        "outputId": "ab0a6f81-1074-45aa-98cb-e8f322cf4284"
      },
      "execution_count": null,
      "outputs": [
        {
          "output_type": "execute_result",
          "data": {
            "text/plain": [
              "(['Asistentes del Santo Domingo subieron 30% con menos restricciones'], 1)"
            ]
          },
          "metadata": {},
          "execution_count": 18
        }
      ]
    },
    {
      "cell_type": "markdown",
      "source": [
        "#### Summary"
      ],
      "metadata": {
        "id": "SKR_VhBnmGwZ"
      }
    },
    {
      "cell_type": "code",
      "source": [
        "#not(contains(@href,'www')) and contains(text(),'calendario de más de 30') and not(contains(text(),'\\n')\n",
        "#Lo mejor es revisar el link y aplicar un texto clave, pARA CREAR UN FILTRO\n",
        "contains=\"//body//*[not(contains(@href,'www')) and contains(text(),'calendario de más de 30') and not(contains(text(),'\\n'))]/text()\"\n",
        "#SABEMOS QUE EL TEXTO DEBE ESTA EN BODY.\n",
        "contains_word=notice_home.xpath(contains)\n",
        "contains_word, len(contains_word)"
      ],
      "metadata": {
        "colab": {
          "base_uri": "https://localhost:8080/"
        },
        "id": "bpJEWSzhp2lU",
        "outputId": "f2f361d8-a2cd-4aba-d604-70aed40a1a61"
      },
      "execution_count": null,
      "outputs": [
        {
          "output_type": "execute_result",
          "data": {
            "text/plain": [
              "(['El teatro cuenta con un calendario de más de 30 eventos para los próximos meses, que incluyen música, danza y festivales '],\n",
              " 1)"
            ]
          },
          "metadata": {},
          "execution_count": 51
        }
      ]
    },
    {
      "cell_type": "code",
      "source": [
        "contains=\"//body//*[not(contains(@href,.)) and contains(text(),'calendario de más de 30') and not(contains(text(),'\\n'))]\"\n",
        "#vemos que el tag es un p\n",
        "contains_word=notice_home.xpath(contains)\n",
        "len(contains_word), contains_word[:10]"
      ],
      "metadata": {
        "colab": {
          "base_uri": "https://localhost:8080/"
        },
        "id": "n_9BcdemmMKS",
        "outputId": "277d0fea-1bdd-4191-85b5-3d50462a1c81"
      },
      "execution_count": null,
      "outputs": [
        {
          "output_type": "execute_result",
          "data": {
            "text/plain": [
              "(1, [<Element p at 0x7fa934e947d0>])"
            ]
          },
          "metadata": {},
          "execution_count": 52
        }
      ]
    },
    {
      "cell_type": "code",
      "source": [
        "contains=\"//body//p[not(contains(@href,.)) and contains(text(),'calendario de más de 30') and not(contains(text(),'\\n'))]/ancestor::*\"\n",
        "#vemos que el tag ancestros son un div\n",
        "contains_word=notice_home.xpath(contains)\n",
        "len(contains_word), contains_word[:10]"
      ],
      "metadata": {
        "colab": {
          "base_uri": "https://localhost:8080/"
        },
        "id": "EYV7jHBRwsiO",
        "outputId": "9ce8f631-784a-4560-ec2a-252aeb84e180"
      },
      "execution_count": null,
      "outputs": [
        {
          "output_type": "execute_result",
          "data": {
            "text/plain": [
              "(9,\n",
              " [<Element html at 0x7fa934ef93b0>,\n",
              "  <Element body at 0x7fa934ea2470>,\n",
              "  <Element div at 0x7fa934ea2230>,\n",
              "  <Element div at 0x7fa934ea24d0>,\n",
              "  <Element div at 0x7fa934ea2830>,\n",
              "  <Element div at 0x7fa934ea2770>,\n",
              "  <Element div at 0x7fa934ea27d0>,\n",
              "  <Element div at 0x7fa934ea2890>,\n",
              "  <Element div at 0x7fa934e9bcb0>])"
            ]
          },
          "metadata": {},
          "execution_count": 54
        }
      ]
    },
    {
      "cell_type": "code",
      "source": [
        "contains=\"//body//p[not(contains(@href,.)) and contains(text(),'calendario de más de 30') and not(contains(text(),'\\n'))]/parent::*/@*\"\n",
        "#el tag padre es un div con un atributo de valor lead\n",
        "contains_word=notice_home.xpath(contains)\n",
        "len(contains_word), contains_word[:10]"
      ],
      "metadata": {
        "colab": {
          "base_uri": "https://localhost:8080/"
        },
        "id": "Wuu4J-4XbmBt",
        "outputId": "6abd76df-3d12-4977-9ff2-652bb5ea8cfe"
      },
      "execution_count": null,
      "outputs": [
        {
          "output_type": "execute_result",
          "data": {
            "text/plain": [
              "(1, ['lead'])"
            ]
          },
          "metadata": {},
          "execution_count": 57
        }
      ]
    },
    {
      "cell_type": "code",
      "source": [
        "contains=\"//body//div[contains(@*,'lead')]/p/text()\"\n",
        "#ya con esto podemos montar un filtro xpath generar\n",
        "summary=notice_home.xpath(contains)\n",
        "len(summary), summary[:10]"
      ],
      "metadata": {
        "colab": {
          "base_uri": "https://localhost:8080/"
        },
        "id": "ABem2LGrb5Gh",
        "outputId": "b83f1551-dade-4dba-d278-b32507737471"
      },
      "execution_count": null,
      "outputs": [
        {
          "output_type": "execute_result",
          "data": {
            "text/plain": [
              "(1,\n",
              " ['Las acciones de la matriz de PedidosYa cayeron ayer tras conocerse proyecciones débiles de las ganancias para este año'])"
            ]
          },
          "metadata": {},
          "execution_count": 67
        }
      ]
    },
    {
      "cell_type": "markdown",
      "source": [
        "#### contenido"
      ],
      "metadata": {
        "id": "7NVnmJ7_dE7S"
      }
    },
    {
      "cell_type": "code",
      "source": [
        "contains=\"//body//div[not(contains(@*,'lead'))]/p/text()\"\n",
        "#buscamos el text y omitimos el resumen\n",
        "summary=notice_home.xpath(contains)\n",
        "len(summary), summary[:10]"
      ],
      "metadata": {
        "colab": {
          "base_uri": "https://localhost:8080/"
        },
        "id": "zve_Mm8ddI9Z",
        "outputId": "40119450-7077-4f4c-9563-95e5e66d0c53"
      },
      "execution_count": null,
      "outputs": [
        {
          "output_type": "execute_result",
          "data": {
            "text/plain": [
              "(12,\n",
              " ['Los planes culturales volvieron a la presencialidad con fuerza. En el caso del Teatro Mayor Julio Mario Santo Domingo, se ha traducido en un incremento de más de 30% en los asistentes desde que se levantaron las restricciones de movilidad.',\n",
              "  'La agenda está enriquecida con más de 30 eventos entre lo que resta de febrero y abril, que incluyen, música, danza y por supuesto, teatro. Con los que se espera aumentar aún más la asistencia de los espectadores.',\n",
              "  '\"La pandemia es un ejemplo de cómo las audiencias se volcaron a la oferta cultural digital, llegando a números que en su momento eran inimaginables. Esperamos que ahora ese consumo se vea reflejado en lo presencial, pues el público que compra entradas para los eventos culturales es un patrocinador fundamental\", destacó Ramiro Osorio, director del Teatro Mayor Julio Mario Santo Domingo.',\n",
              "  'Para el resto del año, también destacan las presentaciones de artistas como Ana Torraja el 12 de mayo; Don Tetto el 4 de junio; Puerto Candelaria el 06 de agosto; así como una amplia agenda de presentaciones filarmónicas e instrumentales.',\n",
              "  \"Y los amantes de las tablas podrán asistir a 'Ciudad Vacía' de Mónica Camacho; ‘Sueño de Una Noche de Verano’, de William Shakespeare con Pawel Nowicki como director; 'Amo y Criado' de Rojas Zorrilla, entre otras.\",\n",
              "  'Para Osorio incentivar a los asistentes a volver a este tipo de actos se logra \"con una programación artística de calidad, diversa y que dé cuenta de lo mejor de la cultura de Colombia y del mundo\".',\n",
              "  'El podio lo completaron el francés Julian Alaphilippe y el danés Mattias Skjelmose a 27 y 34 segundos respectivamente ',\n",
              "  'Antioquia es el departamento con la mayoría de estos concesionarios, mientras que Vaupés y Vichada son los que menos tienen',\n",
              "  'Con la pandemia los consumidores han optado por planes locales o en ciudades aledañas para evitar largos desplazamientos ',\n",
              "  '© 2022, Editorial La República S.A.S. Todos los derechos reservados.'])"
            ]
          },
          "metadata": {},
          "execution_count": 87
        }
      ]
    },
    {
      "cell_type": "code",
      "source": [
        "contains=\"//body//div[not(contains(@*,'lead'))]/p/parent::*\"\n",
        "#revisamos los nodos p y sus padres\n",
        "summary=notice_home.xpath(contains)\n",
        "len(summary), summary[:10]"
      ],
      "metadata": {
        "colab": {
          "base_uri": "https://localhost:8080/"
        },
        "id": "TPrDGtlKf9yN",
        "outputId": "97dfadd0-f6b9-4f1e-b715-3d10a9454bd2"
      },
      "execution_count": null,
      "outputs": [
        {
          "output_type": "execute_result",
          "data": {
            "text/plain": [
              "(10,\n",
              " [<Element div at 0x7fa934d9c770>,\n",
              "  <Element div at 0x7fa934d9c7d0>,\n",
              "  <Element div at 0x7fa934d9c830>,\n",
              "  <Element div at 0x7fa934d9c890>,\n",
              "  <Element div at 0x7fa934d9c8f0>,\n",
              "  <Element div at 0x7fa934d9c950>,\n",
              "  <Element div at 0x7fa934d9c9b0>,\n",
              "  <Element div at 0x7fa934d9ca10>,\n",
              "  <Element div at 0x7fa934d9ca70>,\n",
              "  <Element div at 0x7fa934d9cad0>])"
            ]
          },
          "metadata": {},
          "execution_count": 86
        }
      ]
    },
    {
      "cell_type": "code",
      "source": [
        "contains=\"//body//div[not(contains(@*,'lead'))]/p/parent::*/@class\"\n",
        "#revisamos los atributosde los padres\n",
        "summary=notice_home.xpath(contains)\n",
        "len(summary), summary[:10]"
      ],
      "metadata": {
        "colab": {
          "base_uri": "https://localhost:8080/"
        },
        "id": "xfYY_BlIfzEx",
        "outputId": "74e6e965-4c6d-4cb4-b66a-181a375dd887"
      },
      "execution_count": null,
      "outputs": [
        {
          "output_type": "execute_result",
          "data": {
            "text/plain": [
              "(9,\n",
              " ['html-content',\n",
              "  'col-7 pl-3 pr-3',\n",
              "  'col-7 pl-3 pr-3',\n",
              "  'col-7 pl-3 pr-3',\n",
              "  'info',\n",
              "  'col-2 pl-0 pr-0 mr-5',\n",
              "  'col-5 menu-first mr-6',\n",
              "  'flex-grow-1 menu-second mr-6',\n",
              "  'portales-aliados mt-5 pt-3'])"
            ]
          },
          "metadata": {},
          "execution_count": 82
        }
      ]
    },
    {
      "cell_type": "code",
      "source": [
        "contains=\"//body//div[not(contains(@*,'lead') and contains(text(),'Para el resto del año, también destacan las presentaciones'))]/p/parent::*/../../../@class\"\n",
        "#aplicamos uan palabra clave y vemos las clases de los padres\n",
        "summary=notice_home.xpath(contains)\n",
        "len(summary), summary[:10]"
      ],
      "metadata": {
        "colab": {
          "base_uri": "https://localhost:8080/"
        },
        "id": "mdMoGSVVfDbq",
        "outputId": "304f2a79-a226-4cfe-bff6-ab08833135e3"
      },
      "execution_count": null,
      "outputs": [
        {
          "output_type": "execute_result",
          "data": {
            "text/plain": [
              "(4, ['row article-wrapper', 'col-9', '', 'container pt-5 pb-5'])"
            ]
          },
          "metadata": {},
          "execution_count": 92
        }
      ]
    },
    {
      "cell_type": "code",
      "source": [
        "contains=\"//body//div[contains(@*,'article-wrapper')]//descendant::*\"\n",
        "#filtramos por la clase 'article-wrapper' \n",
        "summary=notice_home.xpath(contains)\n",
        "len(summary), summary[:10]"
      ],
      "metadata": {
        "colab": {
          "base_uri": "https://localhost:8080/"
        },
        "id": "C42NqIklhEZ0",
        "outputId": "36650fe1-4a04-4566-f030-f0eb85fe5f57"
      },
      "execution_count": null,
      "outputs": [
        {
          "output_type": "execute_result",
          "data": {
            "text/plain": [
              "(71,\n",
              " [<Element div at 0x7fa934d9afb0>,\n",
              "  <Element div at 0x7fa934d9c590>,\n",
              "  <Element div at 0x7fa934d9cb30>,\n",
              "  <Element a at 0x7fa934e9b2f0>,\n",
              "  <Element img at 0x7fa934ea74d0>,\n",
              "  <Element ul at 0x7fa934ea7050>,\n",
              "  <Element li at 0x7fa934ea7410>,\n",
              "  <Element p at 0x7fa934dab4d0>,\n",
              "  <Element li at 0x7fa934e188f0>,\n",
              "  <Element a at 0x7fa934e18bf0>])"
            ]
          },
          "metadata": {},
          "execution_count": 125
        }
      ]
    },
    {
      "cell_type": "code",
      "source": [
        "contains=\"//body//div[contains(@*,'article-wrapper')]//div/p/text()\"\n",
        "#alicamos el filtro\n",
        "summary=notice_home.xpath(contains)\n",
        "len(summary), summary[:10]"
      ],
      "metadata": {
        "colab": {
          "base_uri": "https://localhost:8080/"
        },
        "id": "9t5UhEYikCDh",
        "outputId": "5370e163-f55c-42d5-9b83-01751ef61f87"
      },
      "execution_count": null,
      "outputs": [
        {
          "output_type": "execute_result",
          "data": {
            "text/plain": [
              "(7,\n",
              " ['El teatro cuenta con un calendario de más de 30 eventos para los próximos meses, que incluyen música, danza y festivales ',\n",
              "  'Los planes culturales volvieron a la presencialidad con fuerza. En el caso del Teatro Mayor Julio Mario Santo Domingo, se ha traducido en un incremento de más de 30% en los asistentes desde que se levantaron las restricciones de movilidad.',\n",
              "  'La agenda está enriquecida con más de 30 eventos entre lo que resta de febrero y abril, que incluyen, música, danza y por supuesto, teatro. Con los que se espera aumentar aún más la asistencia de los espectadores.',\n",
              "  '\"La pandemia es un ejemplo de cómo las audiencias se volcaron a la oferta cultural digital, llegando a números que en su momento eran inimaginables. Esperamos que ahora ese consumo se vea reflejado en lo presencial, pues el público que compra entradas para los eventos culturales es un patrocinador fundamental\", destacó Ramiro Osorio, director del Teatro Mayor Julio Mario Santo Domingo.',\n",
              "  'Para el resto del año, también destacan las presentaciones de artistas como Ana Torraja el 12 de mayo; Don Tetto el 4 de junio; Puerto Candelaria el 06 de agosto; así como una amplia agenda de presentaciones filarmónicas e instrumentales.',\n",
              "  \"Y los amantes de las tablas podrán asistir a 'Ciudad Vacía' de Mónica Camacho; ‘Sueño de Una Noche de Verano’, de William Shakespeare con Pawel Nowicki como director; 'Amo y Criado' de Rojas Zorrilla, entre otras.\",\n",
              "  'Para Osorio incentivar a los asistentes a volver a este tipo de actos se logra \"con una programación artística de calidad, diversa y que dé cuenta de lo mejor de la cultura de Colombia y del mundo\".'])"
            ]
          },
          "metadata": {},
          "execution_count": 106
        }
      ]
    }
  ]
}